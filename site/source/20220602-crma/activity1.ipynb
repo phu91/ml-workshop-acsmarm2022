{
 "cells": [
  {
   "cell_type": "markdown",
   "id": "00f24c25",
   "metadata": {},
   "source": [
    "## Activity 1: Working with molecular data\n",
    "\n",
    "![treachery of images](https://upload.wikimedia.org/wikipedia/en/b/b9/MagrittePipe.jpg)\n",
    "\n",
    "In this activity, we will learn about the different representations of molecules."
   ]
  },
  {
   "cell_type": "markdown",
   "id": "b970a21f",
   "metadata": {},
   "source": [
    "### Molecules as a graph\n",
    "\n",
    "Let's import `rdkit` and set-up a few things to make structures look nice in notebooks"
   ]
  },
  {
   "cell_type": "code",
   "execution_count": null,
   "id": "3d402998",
   "metadata": {},
   "outputs": [],
   "source": [
    "from rdkit import Chem\n",
    "from rdkit.Chem import AllChem\n",
    "from rdkit.Chem import Draw\n",
    "from rdkit.rdBase import BlockLogs\n",
    "from rdkit.DataStructs.cDataStructs import TanimotoSimilarity \n",
    "import numpy as np\n",
    "\n",
    "# turn off rdkit warnings\n",
    "block = BlockLogs()\n",
    "\n",
    "# use SVGs and make molecules fill image rather than all be same scale\n",
    "Draw.IPythonConsole.ipython_useSVG = True\n",
    "Draw.IPythonConsole.drawOptions.drawMolsSameScale = False"
   ]
  },
  {
   "cell_type": "markdown",
   "id": "3c1b144c",
   "metadata": {},
   "source": [
    "This block allows us to search for molecules by name and get molecule record from pubchem\n"
   ]
  },
  {
   "cell_type": "code",
   "execution_count": null,
   "id": "c3ed5bca",
   "metadata": {
    "tags": [
     "hide-input"
    ]
   },
   "outputs": [],
   "source": [
    "import requests\n",
    "\n",
    "def get_cids(text):\n",
    "    \"\"\"\n",
    "    Search pubchem and return best matching record\n",
    "    \"\"\"  \n",
    "    url = 'https://pubchem.ncbi.nlm.nih.gov/rest/pug/compound/name/{}/cids/TXT'.format(text)\n",
    "    response = requests.get(url)\n",
    "    cids = response.text.split()\n",
    "    if len(cids) == 0:\n",
    "        return None\n",
    "    else:\n",
    "        return cids\n",
    "def get_record(cid):\n",
    "    \"\"\"\n",
    "    Get pubchem record for a given cid and returns molecule as rdkit\n",
    "    \"\"\"\n",
    "    url = 'https://pubchem.ncbi.nlm.nih.gov/rest/pug/compound/cid/{}/record/SDF'.format(cid)\n",
    "    response = requests.get(url)\n",
    "    mol = Chem.MolFromMolBlock(response.text)\n",
    "    return mol\n",
    "\n",
    "def get_molecule(text, n_results=1):\n",
    "    \"\"\"\n",
    "    Search pubchem and return best matching record\n",
    "    \"\"\"  \n",
    "    cids = get_cids(text)\n",
    "    if cids is None:\n",
    "        return None\n",
    "    else:\n",
    "        if n_results == 1:\n",
    "            return get_record(cids[0])\n",
    "        else:\n",
    "            return [get_record(cid) for cid in cids[:n_results]]"
   ]
  },
  {
   "cell_type": "code",
   "execution_count": null,
   "id": "4ecc29b7",
   "metadata": {},
   "outputs": [],
   "source": [
    "get_molecule('buckyball')"
   ]
  },
  {
   "cell_type": "code",
   "execution_count": null,
   "id": "6cad5f42",
   "metadata": {},
   "outputs": [],
   "source": [
    "get_molecule('octanol')"
   ]
  },
  {
   "cell_type": "markdown",
   "id": "7bfaeb7d",
   "metadata": {},
   "source": [
    "The code below shows how we can access atoms and covalent bonds -- which will be useful to make graphs"
   ]
  },
  {
   "cell_type": "code",
   "execution_count": null,
   "id": "6c3a2d5e",
   "metadata": {},
   "outputs": [],
   "source": [
    "mol = get_molecule('toluene')\n",
    "mol"
   ]
  },
  {
   "cell_type": "code",
   "execution_count": null,
   "id": "83ea9db0",
   "metadata": {},
   "outputs": [],
   "source": [
    "for a in mol.GetAtoms():\n",
    "    print(f'Atom {a.GetIdx()} with atomic number {a.GetAtomicNum()}')\n",
    "    neighbors = [n.GetIdx() for n in a.GetNeighbors()]\n",
    "    \n",
    "    print(f'\\tBonded to {\" \".join([str(n) for n in neighbors])}')"
   ]
  },
  {
   "cell_type": "markdown",
   "id": "f3adbb64",
   "metadata": {},
   "source": [
    "Can you revise the code above to build an adjacency matrix and node feature vector?"
   ]
  },
  {
   "cell_type": "markdown",
   "id": "447d58d1",
   "metadata": {},
   "source": [
    "### Molecules as line notation"
   ]
  },
  {
   "cell_type": "code",
   "execution_count": null,
   "id": "79535948",
   "metadata": {},
   "outputs": [],
   "source": [
    "mol = get_molecule('methanol')\n",
    "smiles = Chem.MolToSmiles(mol)\n",
    "print('SMILES:', smiles)"
   ]
  },
  {
   "cell_type": "code",
   "execution_count": null,
   "id": "1f2f51d8",
   "metadata": {},
   "outputs": [],
   "source": [
    "import selfies as sf\n",
    "\n",
    "selfies = sf.encoder(smiles)\n",
    "print('SELFIES:', selfies)"
   ]
  },
  {
   "cell_type": "code",
   "execution_count": null,
   "id": "5dc51823",
   "metadata": {},
   "outputs": [],
   "source": [
    "inchi = Chem.MolToInchi(mol)\n",
    "print('InChi:', inchi)"
   ]
  },
  {
   "cell_type": "markdown",
   "id": "9beea1d0",
   "metadata": {},
   "source": [
    "### Molecules as coordinates"
   ]
  },
  {
   "cell_type": "code",
   "execution_count": null,
   "id": "eb542dfc",
   "metadata": {},
   "outputs": [],
   "source": [
    "mol = get_molecule('aspirin')\n",
    "mol"
   ]
  },
  {
   "cell_type": "code",
   "execution_count": null,
   "id": "508d1480",
   "metadata": {},
   "outputs": [],
   "source": [
    "Chem.AllChem.EmbedMolecule(mol)"
   ]
  },
  {
   "cell_type": "code",
   "execution_count": null,
   "id": "6b97393e",
   "metadata": {},
   "outputs": [],
   "source": [
    "c = mol.GetConformer()\n",
    "c.GetPositions()"
   ]
  },
  {
   "cell_type": "markdown",
   "id": "9fb75c1f",
   "metadata": {},
   "source": [
    "### Comparing molecules\n",
    "\n",
    "The most common way to compare molecules is Morgan Fingerprints --- also known as Extended Connectivity FingerPrint (ECFP).  These are vectors that indicate presence of specific substructures. Pairwise similarity is then computed with Tanimoto similarity."
   ]
  },
  {
   "cell_type": "code",
   "execution_count": null,
   "id": "50b43ae7",
   "metadata": {},
   "outputs": [],
   "source": [
    "m1 = get_molecule('aspirin')\n",
    "m2 = get_molecule('benzene')\n",
    "fp1 =  AllChem.GetMorganFingerprint(m1, 2)\n",
    "fp2 =  AllChem.GetMorganFingerprint(m2, 2)\n",
    "dist = TanimotoSimilarity(fp1, fp2)\n",
    "print('similarity', dist)"
   ]
  },
  {
   "cell_type": "markdown",
   "id": "7d1ede8f",
   "metadata": {},
   "source": [
    "### Finding nearby molecules\n",
    "\n",
    "One of the common strategies in modern methods is to generate a local neighborhood around a specific structure. We can do this using `exmol` via the STONED method."
   ]
  },
  {
   "cell_type": "code",
   "execution_count": null,
   "id": "14b4300f",
   "metadata": {},
   "outputs": [],
   "source": [
    "import exmol\n",
    "\n",
    "smiles = Chem.MolToSmiles(m1)\n",
    "near_smi, near_tanimoto = exmol.run_stoned(smiles)\n",
    "# sort them by tanimoto\n",
    "descend_order = np.argsort(near_tanimoto)[::-1]\n",
    "near_smi = [near_smi[i] for i in descend_order]"
   ]
  },
  {
   "cell_type": "markdown",
   "id": "357891d1",
   "metadata": {},
   "source": [
    "We can now draw a few of them to see what they look like."
   ]
  },
  {
   "cell_type": "code",
   "execution_count": null,
   "id": "1ff1dd06",
   "metadata": {
    "scrolled": false
   },
   "outputs": [],
   "source": [
    "near_mol = [Chem.MolFromSmiles(s) for s in near_smi]\n",
    "Draw.MolsToGridImage(near_mol, molsPerRow=5)"
   ]
  }
 ],
 "metadata": {
  "celltoolbar": "Tags",
  "kernelspec": {
   "display_name": "Python 3 (ipykernel)",
   "language": "python",
   "name": "python3"
  },
  "language_info": {
   "codemirror_mode": {
    "name": "ipython",
    "version": 3
   },
   "file_extension": ".py",
   "mimetype": "text/x-python",
   "name": "python",
   "nbconvert_exporter": "python",
   "pygments_lexer": "ipython3",
   "version": "3.8.12"
  }
 },
 "nbformat": 4,
 "nbformat_minor": 5
}
